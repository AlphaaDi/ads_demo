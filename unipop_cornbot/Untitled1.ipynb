{
 "cells": [
  {
   "cell_type": "code",
   "execution_count": 1,
   "id": "32f13c7d",
   "metadata": {},
   "outputs": [],
   "source": [
    "from sql_handler import SQLHandler"
   ]
  },
  {
   "cell_type": "code",
   "execution_count": 2,
   "id": "9f94541e",
   "metadata": {},
   "outputs": [],
   "source": [
    "sql_handler = SQLHandler('media_files.db')"
   ]
  },
  {
   "cell_type": "code",
   "execution_count": 6,
   "id": "8010e115",
   "metadata": {},
   "outputs": [
    {
     "name": "stdout",
     "output_type": "stream",
     "text": [
      "set_operation\n",
      "INSERT INTO logo_placement_tasks (video_id, logo_id, timestamp) VALUES ('woman', 'BQACAgIAAxkBAAIBXmQu68cNQvuYc5Qr_XXWBVzHx-GdAAK7KwACPyh5Safz6A3MD8_ELwQ', 1680971685)\n",
      "\n"
     ]
    }
   ],
   "source": [
    "sql_handler.insert_logo_place_task(\n",
    "    'woman', 'BQACAgIAAxkBAAIBXmQu68cNQvuYc5Qr_XXWBVzHx-GdAAK7KwACPyh5Safz6A3MD8_ELwQ'\n",
    ")"
   ]
  },
  {
   "cell_type": "code",
   "execution_count": 14,
   "id": "966b46f0",
   "metadata": {},
   "outputs": [
    {
     "name": "stdout",
     "output_type": "stream",
     "text": [
      "get_operation\n",
      "Select * from logo_placement_results\n",
      "\n"
     ]
    },
    {
     "data": {
      "text/plain": [
       "[('woman',\n",
       "  'BQACAgIAAxkBAAIBkWQxmzRM0SVYkHKOThJ1aSLxxHjbAAIqLQAC28qRSaY_hNBUSiCALwQ',\n",
       "  1680972597,\n",
       "  '/Users/blackjacker/Downloads/output_0.mp4'),\n",
       " ('woman',\n",
       "  'BQACAgIAAxkBAAIBmGQxnFrK1ntbUt9ioDtwzOSncmkkAAJCLQAC28qRSdIahhrMShXaLwQ',\n",
       "  1680972891,\n",
       "  '/Users/blackjacker/Downloads/output_0.mp4')]"
      ]
     },
     "execution_count": 14,
     "metadata": {},
     "output_type": "execute_result"
    }
   ],
   "source": [
    "sql_handler.select_all('logo_placement_results')"
   ]
  },
  {
   "cell_type": "code",
   "execution_count": 15,
   "id": "90d11b3e",
   "metadata": {},
   "outputs": [
    {
     "name": "stdout",
     "output_type": "stream",
     "text": [
      "get_operation\n",
      "Select * from logo_placement_tasks\n",
      "\n"
     ]
    },
    {
     "data": {
      "text/plain": [
       "[('CgACAgIAAxkBAAIBwGQxqX3V9cigdTViDsP5UiVlOw6CAAMuAALbypFJrnSVRCpd79gvBA',\n",
       "  'logo_example',\n",
       "  1680976258),\n",
       " ('CgACAgIAAxkBAAIBzWQxqfYkuH4DWcD1UMnWqndV4duvAAIFLgAC28qRSQR8Lh8-2W6yLwQ',\n",
       "  'logo_example',\n",
       "  1680976382)]"
      ]
     },
     "execution_count": 15,
     "metadata": {},
     "output_type": "execute_result"
    }
   ],
   "source": [
    "sql_handler.select_all('logo_placement_tasks')"
   ]
  },
  {
   "cell_type": "code",
   "execution_count": 18,
   "id": "5d5dca96",
   "metadata": {},
   "outputs": [],
   "source": [
    "# import sys\n",
    "# !{sys.executable} video_processing_manager.py"
   ]
  },
  {
   "cell_type": "code",
   "execution_count": null,
   "id": "f5f86a61",
   "metadata": {},
   "outputs": [],
   "source": []
  },
  {
   "cell_type": "code",
   "execution_count": null,
   "id": "22e7bd37",
   "metadata": {},
   "outputs": [],
   "source": []
  },
  {
   "cell_type": "code",
   "execution_count": null,
   "id": "d969f246",
   "metadata": {},
   "outputs": [],
   "source": []
  },
  {
   "cell_type": "code",
   "execution_count": null,
   "id": "318eae56",
   "metadata": {},
   "outputs": [],
   "source": []
  },
  {
   "cell_type": "code",
   "execution_count": null,
   "id": "29a2639d",
   "metadata": {},
   "outputs": [],
   "source": []
  },
  {
   "cell_type": "code",
   "execution_count": null,
   "id": "40f4d2b4",
   "metadata": {},
   "outputs": [],
   "source": []
  },
  {
   "cell_type": "code",
   "execution_count": null,
   "id": "49239e44",
   "metadata": {},
   "outputs": [],
   "source": []
  }
 ],
 "metadata": {
  "kernelspec": {
   "display_name": "Python 3 (ipykernel)",
   "language": "python",
   "name": "python3"
  },
  "language_info": {
   "codemirror_mode": {
    "name": "ipython",
    "version": 3
   },
   "file_extension": ".py",
   "mimetype": "text/x-python",
   "name": "python",
   "nbconvert_exporter": "python",
   "pygments_lexer": "ipython3",
   "version": "3.9.10"
  }
 },
 "nbformat": 4,
 "nbformat_minor": 5
}
