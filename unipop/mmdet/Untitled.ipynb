{
 "cells": [
  {
   "cell_type": "code",
   "execution_count": 20,
   "id": "f3189807",
   "metadata": {},
   "outputs": [
    {
     "name": "stdout",
     "output_type": "stream",
     "text": [
      "/opt/homebrew/opt/python@3.9/bin/python3.9\r\n"
     ]
    }
   ],
   "source": [
    "!what {sys.executable}"
   ]
  },
  {
   "cell_type": "code",
   "execution_count": 25,
   "id": "7cd9da4b",
   "metadata": {},
   "outputs": [],
   "source": [
    "import mmcv\n",
    "from mmcv.runner import load_checkpoint\n",
    "from mmdet.apis import inference_detector, show_result_pyplot\n",
    "from mmdet.models import build_detector\n",
    "\n",
    "import cv2\n",
    "import numpy as np\n",
    "import torch\n",
    "import matplotlib.pyplot as plt"
   ]
  },
  {
   "cell_type": "code",
   "execution_count": 59,
   "id": "8e95e939",
   "metadata": {},
   "outputs": [],
   "source": [
    "config = '/Users/blackjacker/code/mmdetection/configs/mask2former/mask2former_swin-s-p4-w7-224_lsj_8x2_50e_coco.py'\n",
    "checkpoint = '/Users/blackjacker/Downloads/mask2former_swin-s-p4-w7-224_lsj_8x2_50e_coco_20220504_001756-743b7d99.pth'\n",
    "\n"
   ]
  },
  {
   "cell_type": "code",
   "execution_count": 28,
   "id": "ddd1a4f3",
   "metadata": {},
   "outputs": [],
   "source": [
    "config = '/Users/blackjacker/code/mmsegmentation/configs/unet/fcn_unet_s5-d16_4x4_512x1024_160k_cityscapes.py'\n",
    "checkpoint = '/Users/blackjacker/Downloads/fcn_unet_s5-d16_4x4_512x1024_160k_cityscapes_20211210_145204-6860854e.pth'\n"
   ]
  },
  {
   "cell_type": "code",
   "execution_count": 81,
   "id": "fcb04719",
   "metadata": {},
   "outputs": [],
   "source": [
    "import mmcv\n",
    "from mmcv.runner import load_checkpoint\n",
    "from mmdet.apis import inference_detector, show_result_pyplot\n",
    "from mmdet.models import build_detector\n",
    "\n",
    "import cv2\n",
    "import torch\n",
    "import numpy as np\n",
    "import matplotlib.pyplot as plt\n",
    "\n",
    "config = '~/code/mmdetection/configs/mask2former/mask2former_swin-s-p4-w7-224_lsj_8x2_50e_coco.py'\n",
    "checkpoint = '/Users/blackjacker/Downloads/mask2former_swin-s-p4-w7-224_lsj_8x2_50e_coco_20220504_001756-743b7d99.pth'\n",
    "\n",
    "def get_colors():\n",
    "    np.random.seed(997)\n",
    "    colors = np.stack(np.meshgrid(np.arange(0,255),np.arange(0,255),np.arange(0,255)))\n",
    "    colors = colors.reshape(3,-1).T\n",
    "    permute_idxs = np.random.permutation(np.arange(colors.shape[0]))\n",
    "    colors = colors[permute_idxs]\n",
    "    return colors.astype(np.uint8)\n",
    "\n",
    "class Mask2Former(torch.nn.Module):\n",
    "    def __init__(self, weights, config_path, device='cuda:1', threshold = 0.8):\n",
    "        super().__init__()\n",
    "        config = mmcv.Config.fromfile(config_path)\n",
    "        model = build_detector(config.model)\n",
    "        checkpoint = load_checkpoint(model, weights, map_location=device)\n",
    "        self.classes = checkpoint['meta']['CLASSES']\n",
    "        self.threshold = threshold\n",
    "        model.to(device)\n",
    "        model.cfg = config\n",
    "        self.model = model.eval()\n",
    "        self.colors = get_colors()\n",
    "\n",
    "    @torch.no_grad()\n",
    "    def forward(self, image):\n",
    "        H,W,_ = image.shape\n",
    "        image_res = cv2.resize(image, (512,512))\n",
    "        print(image_res.shape)\n",
    "        class_bboxs, masks = inference_detector(self.model, image_res)\n",
    "        objects_mask = np.zeros_like(image_res).astype(np.uint8)\n",
    "        obj_couint = 0\n",
    "        for idx, class_name in enumerate(self.classes):\n",
    "            for bbox, mask in zip(class_bboxs[idx], masks[idx]):\n",
    "                if bbox[-1] < self.threshold:\n",
    "                    continue\n",
    "                objects_mask[mask] = self.colors[obj_couint]\n",
    "                obj_couint += 1\n",
    "                \n",
    "        del class_bboxs, masks\n",
    "        torch.cuda.empty_cache()\n",
    "\n",
    "        objects_mask = cv2.resize(objects_mask, (W,H))\n",
    "        return objects_mask"
   ]
  },
  {
   "cell_type": "code",
   "execution_count": 82,
   "id": "7570e7fb",
   "metadata": {},
   "outputs": [
    {
     "name": "stdout",
     "output_type": "stream",
     "text": [
      "load checkpoint from local path: /Users/blackjacker/Downloads/mask2former_swin-s-p4-w7-224_lsj_8x2_50e_coco_20220504_001756-743b7d99.pth\n"
     ]
    }
   ],
   "source": [
    "mask_former = Mask2Former(checkpoint, config, device='cpu')"
   ]
  },
  {
   "cell_type": "code",
   "execution_count": 83,
   "id": "5df1133e",
   "metadata": {},
   "outputs": [],
   "source": [
    "def read_video_cv2(path):\n",
    "    cap = cv2.VideoCapture(path)\n",
    "    all = []\n",
    "    i = 0\n",
    "    while cap.isOpened() and i < 1:\n",
    "        ret, frame = cap.read()\n",
    "        arr = np.array(frame)\n",
    "        all.append(arr)\n",
    "        i += 1\n",
    "    return np.array(all)\n",
    "\n",
    "frame = read_video_cv2(\"/Users/blackjacker/Downloads/pexels-free-videos-854100-1920x1080-25fps.mp4\")  "
   ]
  },
  {
   "cell_type": "code",
   "execution_count": 84,
   "id": "ae70be0a",
   "metadata": {},
   "outputs": [
    {
     "name": "stdout",
     "output_type": "stream",
     "text": [
      "(512, 512, 3)\n"
     ]
    }
   ],
   "source": [
    "a = mask_former(frame[0])"
   ]
  },
  {
   "cell_type": "code",
   "execution_count": 85,
   "id": "9465fc01",
   "metadata": {},
   "outputs": [
    {
     "data": {
      "text/plain": [
       "<matplotlib.image.AxesImage at 0x2baeaa310>"
      ]
     },
     "execution_count": 85,
     "metadata": {},
     "output_type": "execute_result"
    },
    {
     "data": {
      "image/png": "[encoded data removed]",
      "text/plain": [
       "<Figure size 432x288 with 1 Axes>"
      ]
     },
     "metadata": {
      "needs_background": "light"
     },
     "output_type": "display_data"
    }
   ],
   "source": [
    "plt.imshow(a)"
   ]
  },
  {
   "cell_type": "code",
   "execution_count": 29,
   "id": "f8d34396",
   "metadata": {
    "scrolled": true
   },
   "outputs": [
    {
     "name": "stderr",
     "output_type": "stream",
     "text": [
      "/Users/blackjacker/code/mmsegmentation/mmseg/models/losses/cross_entropy_loss.py:235: UserWarning: Default ``avg_non_ignore`` is False, if you would like to ignore the certain label and average loss over non-ignore labels, which is the same with PyTorch official cross_entropy, set ``avg_non_ignore=True``.\n",
      "  warnings.warn(\n"
     ]
    },
    {
     "name": "stdout",
     "output_type": "stream",
     "text": [
      "load checkpoint from local path: /Users/blackjacker/Downloads/fcn_unet_s5-d16_4x4_512x1024_160k_cityscapes_20211210_145204-6860854e.pth\n"
     ]
    }
   ],
   "source": [
    "from mmseg.apis import inference_segmentor, init_segmentor, show_result_pyplot\n",
    "from mmseg.core.evaluation import get_palette\n",
    "\n",
    "frame = cv2.resize(frames[0], (1024,512))\n",
    "model = init_segmentor(config, checkpoint, device='cpu')\n",
    "result = inference_segmentor(model, frame)"
   ]
  },
  {
   "cell_type": "code",
   "execution_count": 4,
   "id": "f32f0ba8",
   "metadata": {},
   "outputs": [],
   "source": [
    "from xmem import PropagationxMem, read_frames"
   ]
  },
  {
   "cell_type": "code",
   "execution_count": 5,
   "id": "a921dc8b",
   "metadata": {},
   "outputs": [],
   "source": [
    "frames = read_frames('/Users/blackjacker/Downloads/data/images')"
   ]
  },
  {
   "cell_type": "code",
   "execution_count": null,
   "id": "f4059a00",
   "metadata": {},
   "outputs": [],
   "source": []
  },
  {
   "cell_type": "code",
   "execution_count": null,
   "id": "0fe6b4f2",
   "metadata": {},
   "outputs": [],
   "source": []
  },
  {
   "cell_type": "code",
   "execution_count": null,
   "id": "433318ce",
   "metadata": {},
   "outputs": [],
   "source": []
  }
 ],
 "metadata": {
  "kernelspec": {
   "display_name": "Python 3 (ipykernel)",
   "language": "python",
   "name": "python3"
  },
  "language_info": {
   "codemirror_mode": {
    "name": "ipython",
    "version": 3
   },
   "file_extension": ".py",
   "mimetype": "text/x-python",
   "name": "python",
   "nbconvert_exporter": "python",
   "pygments_lexer": "ipython3",
   "version": "3.9.10"
  }
 },
 "nbformat": 4,
 "nbformat_minor": 5
}
